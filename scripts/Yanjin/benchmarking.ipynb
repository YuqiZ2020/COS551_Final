{
 "cells": [
  {
   "cell_type": "markdown",
   "id": "56ba6e1e",
   "metadata": {},
   "source": [
    "## \tSmith-Waterman local alignment using EMBOSS water.\n",
    "https://www.ebi.ac.uk/Tools/psa/emboss_water/\n",
    "citation: Madeira F, Pearce M, Tivey ARN, et al. Search and sequence analysis tools services from EMBL-EBI in 2022. Nucleic Acids Research. 2022 Jul;50(W1):W276-W279. DOI: 10.1093/nar/gkac240. PMID: 35412617; PMCID: PMC9252731.\n"
   ]
  },
  {
   "cell_type": "code",
   "execution_count": 17,
   "id": "bec4ff82",
   "metadata": {},
   "outputs": [],
   "source": [
    "import pandas as pd\n",
    "import seaborn as sns\n",
    "import matplotlib.pyplot as plt"
   ]
  },
  {
   "cell_type": "code",
   "execution_count": 20,
   "id": "92325bb3",
   "metadata": {},
   "outputs": [],
   "source": [
    "score_tbl = pd.read_csv(\"/Genomics/pritykinlab/yanjin/COS551/COS551_Final/data/DNA_seq/align_seq_with_clustw/alignment_score.csv\")"
   ]
  },
  {
   "cell_type": "code",
   "execution_count": 21,
   "id": "311b3191",
   "metadata": {},
   "outputs": [
    {
     "data": {
      "text/html": [
       "<div>\n",
       "<style scoped>\n",
       "    .dataframe tbody tr th:only-of-type {\n",
       "        vertical-align: middle;\n",
       "    }\n",
       "\n",
       "    .dataframe tbody tr th {\n",
       "        vertical-align: top;\n",
       "    }\n",
       "\n",
       "    .dataframe thead th {\n",
       "        text-align: right;\n",
       "    }\n",
       "</style>\n",
       "<table border=\"1\" class=\"dataframe\">\n",
       "  <thead>\n",
       "    <tr style=\"text-align: right;\">\n",
       "      <th></th>\n",
       "      <th>Unnamed: 0</th>\n",
       "      <th>name</th>\n",
       "      <th>score</th>\n",
       "      <th>similarity</th>\n",
       "      <th>length</th>\n",
       "    </tr>\n",
       "  </thead>\n",
       "  <tbody>\n",
       "    <tr>\n",
       "      <th>0</th>\n",
       "      <td>0</td>\n",
       "      <td>Nespas_and_Xist.txt</td>\n",
       "      <td>5556.0</td>\n",
       "      <td>1485/4144 (35.8%)</td>\n",
       "      <td>4144</td>\n",
       "    </tr>\n",
       "    <tr>\n",
       "      <th>1</th>\n",
       "      <td>1</td>\n",
       "      <td>Gm16084_and_XistAR.txt</td>\n",
       "      <td>1582.0</td>\n",
       "      <td>401/1039 (38.6%)</td>\n",
       "      <td>1039</td>\n",
       "    </tr>\n",
       "    <tr>\n",
       "      <th>2</th>\n",
       "      <td>2</td>\n",
       "      <td>Gm16084_and_Ube3a.txt</td>\n",
       "      <td>1648.5</td>\n",
       "      <td>400/1029 (38.9%)</td>\n",
       "      <td>1029</td>\n",
       "    </tr>\n",
       "    <tr>\n",
       "      <th>3</th>\n",
       "      <td>3</td>\n",
       "      <td>Morrbid_and_Nespas.txt</td>\n",
       "      <td>5657.5</td>\n",
       "      <td>1430/3714 (38.5%)</td>\n",
       "      <td>3714</td>\n",
       "    </tr>\n",
       "    <tr>\n",
       "      <th>4</th>\n",
       "      <td>4</td>\n",
       "      <td>Airn_and_XistAR.txt</td>\n",
       "      <td>7096.5</td>\n",
       "      <td>1783/4649 (38.4%)</td>\n",
       "      <td>4649</td>\n",
       "    </tr>\n",
       "  </tbody>\n",
       "</table>\n",
       "</div>"
      ],
      "text/plain": [
       "   Unnamed: 0                    name   score         similarity  length\n",
       "0           0     Nespas_and_Xist.txt  5556.0  1485/4144 (35.8%)    4144\n",
       "1           1  Gm16084_and_XistAR.txt  1582.0   401/1039 (38.6%)    1039\n",
       "2           2   Gm16084_and_Ube3a.txt  1648.5   400/1029 (38.9%)    1029\n",
       "3           3  Morrbid_and_Nespas.txt  5657.5  1430/3714 (38.5%)    3714\n",
       "4           4     Airn_and_XistAR.txt  7096.5  1783/4649 (38.4%)    4649"
      ]
     },
     "execution_count": 21,
     "metadata": {},
     "output_type": "execute_result"
    }
   ],
   "source": [
    "score_tbl.head()"
   ]
  },
  {
   "cell_type": "code",
   "execution_count": 22,
   "id": "5cf52910",
   "metadata": {},
   "outputs": [
    {
     "data": {
      "text/html": [
       "<div>\n",
       "<style scoped>\n",
       "    .dataframe tbody tr th:only-of-type {\n",
       "        vertical-align: middle;\n",
       "    }\n",
       "\n",
       "    .dataframe tbody tr th {\n",
       "        vertical-align: top;\n",
       "    }\n",
       "\n",
       "    .dataframe thead th {\n",
       "        text-align: right;\n",
       "    }\n",
       "</style>\n",
       "<table border=\"1\" class=\"dataframe\">\n",
       "  <thead>\n",
       "    <tr style=\"text-align: right;\">\n",
       "      <th></th>\n",
       "      <th>Unnamed: 0</th>\n",
       "      <th>name</th>\n",
       "      <th>score</th>\n",
       "      <th>similarity</th>\n",
       "      <th>length</th>\n",
       "      <th>name1</th>\n",
       "      <th>name2</th>\n",
       "      <th>percentage</th>\n",
       "    </tr>\n",
       "  </thead>\n",
       "  <tbody>\n",
       "    <tr>\n",
       "      <th>0</th>\n",
       "      <td>0</td>\n",
       "      <td>Nespas_and_Xist.txt</td>\n",
       "      <td>5556.0</td>\n",
       "      <td>1485/4144 (35.8%)</td>\n",
       "      <td>4144</td>\n",
       "      <td>Nespas</td>\n",
       "      <td>Xist</td>\n",
       "      <td>35.8</td>\n",
       "    </tr>\n",
       "    <tr>\n",
       "      <th>1</th>\n",
       "      <td>1</td>\n",
       "      <td>Gm16084_and_XistAR.txt</td>\n",
       "      <td>1582.0</td>\n",
       "      <td>401/1039 (38.6%)</td>\n",
       "      <td>1039</td>\n",
       "      <td>Gm16084</td>\n",
       "      <td>XistAR</td>\n",
       "      <td>38.6</td>\n",
       "    </tr>\n",
       "    <tr>\n",
       "      <th>2</th>\n",
       "      <td>2</td>\n",
       "      <td>Gm16084_and_Ube3a.txt</td>\n",
       "      <td>1648.5</td>\n",
       "      <td>400/1029 (38.9%)</td>\n",
       "      <td>1029</td>\n",
       "      <td>Gm16084</td>\n",
       "      <td>Ube3a</td>\n",
       "      <td>38.9</td>\n",
       "    </tr>\n",
       "    <tr>\n",
       "      <th>3</th>\n",
       "      <td>3</td>\n",
       "      <td>Morrbid_and_Nespas.txt</td>\n",
       "      <td>5657.5</td>\n",
       "      <td>1430/3714 (38.5%)</td>\n",
       "      <td>3714</td>\n",
       "      <td>Morrbid</td>\n",
       "      <td>Nespas</td>\n",
       "      <td>38.5</td>\n",
       "    </tr>\n",
       "    <tr>\n",
       "      <th>4</th>\n",
       "      <td>4</td>\n",
       "      <td>Airn_and_XistAR.txt</td>\n",
       "      <td>7096.5</td>\n",
       "      <td>1783/4649 (38.4%)</td>\n",
       "      <td>4649</td>\n",
       "      <td>Airn</td>\n",
       "      <td>XistAR</td>\n",
       "      <td>38.4</td>\n",
       "    </tr>\n",
       "    <tr>\n",
       "      <th>...</th>\n",
       "      <td>...</td>\n",
       "      <td>...</td>\n",
       "      <td>...</td>\n",
       "      <td>...</td>\n",
       "      <td>...</td>\n",
       "      <td>...</td>\n",
       "      <td>...</td>\n",
       "      <td>...</td>\n",
       "    </tr>\n",
       "    <tr>\n",
       "      <th>61</th>\n",
       "      <td>61</td>\n",
       "      <td>Gm13261_and_Morrbid.txt</td>\n",
       "      <td>2741.5</td>\n",
       "      <td>643/1527 (42.1%)</td>\n",
       "      <td>1527</td>\n",
       "      <td>Gm13261</td>\n",
       "      <td>Morrbid</td>\n",
       "      <td>42.1</td>\n",
       "    </tr>\n",
       "    <tr>\n",
       "      <th>62</th>\n",
       "      <td>62</td>\n",
       "      <td>Hottip_and_Xist.txt</td>\n",
       "      <td>5788.5</td>\n",
       "      <td>1521/4112 (37.0%)</td>\n",
       "      <td>4112</td>\n",
       "      <td>Hottip</td>\n",
       "      <td>Xist</td>\n",
       "      <td>37.0</td>\n",
       "    </tr>\n",
       "    <tr>\n",
       "      <th>63</th>\n",
       "      <td>63</td>\n",
       "      <td>Halr1_and_Morrbid.txt</td>\n",
       "      <td>20750.0</td>\n",
       "      <td>5292/13602 (38.9%)</td>\n",
       "      <td>13602</td>\n",
       "      <td>Halr1</td>\n",
       "      <td>Morrbid</td>\n",
       "      <td>38.9</td>\n",
       "    </tr>\n",
       "    <tr>\n",
       "      <th>64</th>\n",
       "      <td>64</td>\n",
       "      <td>Airn_and_Xist.txt</td>\n",
       "      <td>0.0</td>\n",
       "      <td>0</td>\n",
       "      <td>1</td>\n",
       "      <td>Airn</td>\n",
       "      <td>Xist</td>\n",
       "      <td>NaN</td>\n",
       "    </tr>\n",
       "    <tr>\n",
       "      <th>65</th>\n",
       "      <td>65</td>\n",
       "      <td>Airn_and_Ube3a.txt</td>\n",
       "      <td>0.0</td>\n",
       "      <td>0</td>\n",
       "      <td>1</td>\n",
       "      <td>Airn</td>\n",
       "      <td>Ube3a</td>\n",
       "      <td>NaN</td>\n",
       "    </tr>\n",
       "  </tbody>\n",
       "</table>\n",
       "<p>66 rows × 8 columns</p>\n",
       "</div>"
      ],
      "text/plain": [
       "    Unnamed: 0                     name    score          similarity  length  \\\n",
       "0            0      Nespas_and_Xist.txt   5556.0   1485/4144 (35.8%)    4144   \n",
       "1            1   Gm16084_and_XistAR.txt   1582.0    401/1039 (38.6%)    1039   \n",
       "2            2    Gm16084_and_Ube3a.txt   1648.5    400/1029 (38.9%)    1029   \n",
       "3            3   Morrbid_and_Nespas.txt   5657.5   1430/3714 (38.5%)    3714   \n",
       "4            4      Airn_and_XistAR.txt   7096.5   1783/4649 (38.4%)    4649   \n",
       "..         ...                      ...      ...                 ...     ...   \n",
       "61          61  Gm13261_and_Morrbid.txt   2741.5    643/1527 (42.1%)    1527   \n",
       "62          62      Hottip_and_Xist.txt   5788.5   1521/4112 (37.0%)    4112   \n",
       "63          63    Halr1_and_Morrbid.txt  20750.0  5292/13602 (38.9%)   13602   \n",
       "64          64        Airn_and_Xist.txt      0.0                   0       1   \n",
       "65          65       Airn_and_Ube3a.txt      0.0                   0       1   \n",
       "\n",
       "      name1    name2  percentage  \n",
       "0    Nespas     Xist        35.8  \n",
       "1   Gm16084   XistAR        38.6  \n",
       "2   Gm16084    Ube3a        38.9  \n",
       "3   Morrbid   Nespas        38.5  \n",
       "4      Airn   XistAR        38.4  \n",
       "..      ...      ...         ...  \n",
       "61  Gm13261  Morrbid        42.1  \n",
       "62   Hottip     Xist        37.0  \n",
       "63    Halr1  Morrbid        38.9  \n",
       "64     Airn     Xist         NaN  \n",
       "65     Airn    Ube3a         NaN  \n",
       "\n",
       "[66 rows x 8 columns]"
      ]
     },
     "execution_count": 22,
     "metadata": {},
     "output_type": "execute_result"
    }
   ],
   "source": [
    "score_tbl[['name1', 'name2']] = score_tbl['name'].str.split('_and_', expand=True)\n",
    "\n",
    "# Remove the '.txt' extension from the second name\n",
    "score_tbl['name2'] = score_tbl['name2'].str.replace('.txt', '', regex=False)\n",
    "\n",
    "# Extract the percentage using regular expression\n",
    "score_tbl['percentage'] = score_tbl['similarity'].str.extract(r'(\\d+\\.\\d+)%')\n",
    "\n",
    "# Convert the extracted percentages to float\n",
    "score_tbl['percentage'] = score_tbl['percentage'].astype(float)\n",
    "\n",
    "\n",
    "# Display the DataFrame\n",
    "score_tbl"
   ]
  },
  {
   "cell_type": "code",
   "execution_count": 23,
   "id": "557d21e7",
   "metadata": {},
   "outputs": [
    {
     "data": {
      "text/html": [
       "<div>\n",
       "<style scoped>\n",
       "    .dataframe tbody tr th:only-of-type {\n",
       "        vertical-align: middle;\n",
       "    }\n",
       "\n",
       "    .dataframe tbody tr th {\n",
       "        vertical-align: top;\n",
       "    }\n",
       "\n",
       "    .dataframe thead th {\n",
       "        text-align: right;\n",
       "    }\n",
       "</style>\n",
       "<table border=\"1\" class=\"dataframe\">\n",
       "  <thead>\n",
       "    <tr style=\"text-align: right;\">\n",
       "      <th></th>\n",
       "      <th>score</th>\n",
       "      <th>length</th>\n",
       "      <th>name1</th>\n",
       "      <th>name2</th>\n",
       "      <th>percentage</th>\n",
       "    </tr>\n",
       "  </thead>\n",
       "  <tbody>\n",
       "    <tr>\n",
       "      <th>0</th>\n",
       "      <td>5556.0</td>\n",
       "      <td>4144</td>\n",
       "      <td>Nespas</td>\n",
       "      <td>Xist</td>\n",
       "      <td>35.8</td>\n",
       "    </tr>\n",
       "    <tr>\n",
       "      <th>1</th>\n",
       "      <td>1582.0</td>\n",
       "      <td>1039</td>\n",
       "      <td>Gm16084</td>\n",
       "      <td>XistAR</td>\n",
       "      <td>38.6</td>\n",
       "    </tr>\n",
       "    <tr>\n",
       "      <th>2</th>\n",
       "      <td>1648.5</td>\n",
       "      <td>1029</td>\n",
       "      <td>Gm16084</td>\n",
       "      <td>Ube3a</td>\n",
       "      <td>38.9</td>\n",
       "    </tr>\n",
       "    <tr>\n",
       "      <th>3</th>\n",
       "      <td>5657.5</td>\n",
       "      <td>3714</td>\n",
       "      <td>Morrbid</td>\n",
       "      <td>Nespas</td>\n",
       "      <td>38.5</td>\n",
       "    </tr>\n",
       "    <tr>\n",
       "      <th>4</th>\n",
       "      <td>7096.5</td>\n",
       "      <td>4649</td>\n",
       "      <td>Airn</td>\n",
       "      <td>XistAR</td>\n",
       "      <td>38.4</td>\n",
       "    </tr>\n",
       "    <tr>\n",
       "      <th>...</th>\n",
       "      <td>...</td>\n",
       "      <td>...</td>\n",
       "      <td>...</td>\n",
       "      <td>...</td>\n",
       "      <td>...</td>\n",
       "    </tr>\n",
       "    <tr>\n",
       "      <th>61</th>\n",
       "      <td>2741.5</td>\n",
       "      <td>1527</td>\n",
       "      <td>Gm13261</td>\n",
       "      <td>Morrbid</td>\n",
       "      <td>42.1</td>\n",
       "    </tr>\n",
       "    <tr>\n",
       "      <th>62</th>\n",
       "      <td>5788.5</td>\n",
       "      <td>4112</td>\n",
       "      <td>Hottip</td>\n",
       "      <td>Xist</td>\n",
       "      <td>37.0</td>\n",
       "    </tr>\n",
       "    <tr>\n",
       "      <th>63</th>\n",
       "      <td>20750.0</td>\n",
       "      <td>13602</td>\n",
       "      <td>Halr1</td>\n",
       "      <td>Morrbid</td>\n",
       "      <td>38.9</td>\n",
       "    </tr>\n",
       "    <tr>\n",
       "      <th>64</th>\n",
       "      <td>0.0</td>\n",
       "      <td>1</td>\n",
       "      <td>Airn</td>\n",
       "      <td>Xist</td>\n",
       "      <td>NaN</td>\n",
       "    </tr>\n",
       "    <tr>\n",
       "      <th>65</th>\n",
       "      <td>0.0</td>\n",
       "      <td>1</td>\n",
       "      <td>Airn</td>\n",
       "      <td>Ube3a</td>\n",
       "      <td>NaN</td>\n",
       "    </tr>\n",
       "  </tbody>\n",
       "</table>\n",
       "<p>66 rows × 5 columns</p>\n",
       "</div>"
      ],
      "text/plain": [
       "      score  length    name1    name2  percentage\n",
       "0    5556.0    4144   Nespas     Xist        35.8\n",
       "1    1582.0    1039  Gm16084   XistAR        38.6\n",
       "2    1648.5    1029  Gm16084    Ube3a        38.9\n",
       "3    5657.5    3714  Morrbid   Nespas        38.5\n",
       "4    7096.5    4649     Airn   XistAR        38.4\n",
       "..      ...     ...      ...      ...         ...\n",
       "61   2741.5    1527  Gm13261  Morrbid        42.1\n",
       "62   5788.5    4112   Hottip     Xist        37.0\n",
       "63  20750.0   13602    Halr1  Morrbid        38.9\n",
       "64      0.0       1     Airn     Xist         NaN\n",
       "65      0.0       1     Airn    Ube3a         NaN\n",
       "\n",
       "[66 rows x 5 columns]"
      ]
     },
     "execution_count": 23,
     "metadata": {},
     "output_type": "execute_result"
    }
   ],
   "source": [
    "score_tbl.drop([\"name\",\"similarity\",\"Unnamed: 0\"],axis = 1,inplace = True)\n",
    "score_tbl"
   ]
  },
  {
   "cell_type": "code",
   "execution_count": 24,
   "id": "48614856",
   "metadata": {},
   "outputs": [],
   "source": [
    "score_tbl[\"normalized_score\"] = score_tbl[\"score\"] / score_tbl[\"length\"]"
   ]
  },
  {
   "cell_type": "code",
   "execution_count": 25,
   "id": "fa5e28ad",
   "metadata": {},
   "outputs": [],
   "source": [
    "score = score_tbl[[\"name1\",\"name2\",\"normalized_score\"]]"
   ]
  },
  {
   "cell_type": "code",
   "execution_count": 26,
   "id": "363850f5",
   "metadata": {},
   "outputs": [
    {
     "data": {
      "text/html": [
       "<div>\n",
       "<style scoped>\n",
       "    .dataframe tbody tr th:only-of-type {\n",
       "        vertical-align: middle;\n",
       "    }\n",
       "\n",
       "    .dataframe tbody tr th {\n",
       "        vertical-align: top;\n",
       "    }\n",
       "\n",
       "    .dataframe thead th {\n",
       "        text-align: right;\n",
       "    }\n",
       "</style>\n",
       "<table border=\"1\" class=\"dataframe\">\n",
       "  <thead>\n",
       "    <tr style=\"text-align: right;\">\n",
       "      <th></th>\n",
       "      <th>name1</th>\n",
       "      <th>name2</th>\n",
       "      <th>normalized_score</th>\n",
       "    </tr>\n",
       "  </thead>\n",
       "  <tbody>\n",
       "    <tr>\n",
       "      <th>0</th>\n",
       "      <td>Nespas</td>\n",
       "      <td>Xist</td>\n",
       "      <td>1.340734</td>\n",
       "    </tr>\n",
       "    <tr>\n",
       "      <th>1</th>\n",
       "      <td>Gm16084</td>\n",
       "      <td>XistAR</td>\n",
       "      <td>1.522618</td>\n",
       "    </tr>\n",
       "    <tr>\n",
       "      <th>2</th>\n",
       "      <td>Gm16084</td>\n",
       "      <td>Ube3a</td>\n",
       "      <td>1.602041</td>\n",
       "    </tr>\n",
       "    <tr>\n",
       "      <th>3</th>\n",
       "      <td>Morrbid</td>\n",
       "      <td>Nespas</td>\n",
       "      <td>1.523290</td>\n",
       "    </tr>\n",
       "    <tr>\n",
       "      <th>4</th>\n",
       "      <td>Airn</td>\n",
       "      <td>XistAR</td>\n",
       "      <td>1.526457</td>\n",
       "    </tr>\n",
       "    <tr>\n",
       "      <th>...</th>\n",
       "      <td>...</td>\n",
       "      <td>...</td>\n",
       "      <td>...</td>\n",
       "    </tr>\n",
       "    <tr>\n",
       "      <th>61</th>\n",
       "      <td>Gm13261</td>\n",
       "      <td>Morrbid</td>\n",
       "      <td>1.795350</td>\n",
       "    </tr>\n",
       "    <tr>\n",
       "      <th>62</th>\n",
       "      <td>Hottip</td>\n",
       "      <td>Xist</td>\n",
       "      <td>1.407709</td>\n",
       "    </tr>\n",
       "    <tr>\n",
       "      <th>63</th>\n",
       "      <td>Halr1</td>\n",
       "      <td>Morrbid</td>\n",
       "      <td>1.525511</td>\n",
       "    </tr>\n",
       "    <tr>\n",
       "      <th>64</th>\n",
       "      <td>Airn</td>\n",
       "      <td>Xist</td>\n",
       "      <td>0.000000</td>\n",
       "    </tr>\n",
       "    <tr>\n",
       "      <th>65</th>\n",
       "      <td>Airn</td>\n",
       "      <td>Ube3a</td>\n",
       "      <td>0.000000</td>\n",
       "    </tr>\n",
       "  </tbody>\n",
       "</table>\n",
       "<p>66 rows × 3 columns</p>\n",
       "</div>"
      ],
      "text/plain": [
       "      name1    name2  normalized_score\n",
       "0    Nespas     Xist          1.340734\n",
       "1   Gm16084   XistAR          1.522618\n",
       "2   Gm16084    Ube3a          1.602041\n",
       "3   Morrbid   Nespas          1.523290\n",
       "4      Airn   XistAR          1.526457\n",
       "..      ...      ...               ...\n",
       "61  Gm13261  Morrbid          1.795350\n",
       "62   Hottip     Xist          1.407709\n",
       "63    Halr1  Morrbid          1.525511\n",
       "64     Airn     Xist          0.000000\n",
       "65     Airn    Ube3a          0.000000\n",
       "\n",
       "[66 rows x 3 columns]"
      ]
     },
     "execution_count": 26,
     "metadata": {},
     "output_type": "execute_result"
    }
   ],
   "source": [
    "score"
   ]
  },
  {
   "cell_type": "code",
   "execution_count": 28,
   "id": "7a844389",
   "metadata": {},
   "outputs": [],
   "source": [
    "heatmap_data = score.pivot(index='name1', columns='name2', values='normalized_score')"
   ]
  },
  {
   "cell_type": "code",
   "execution_count": 29,
   "id": "55e07546",
   "metadata": {},
   "outputs": [
    {
     "data": {
      "image/png": "[encoded data removed]",
      "text/plain": [
       "<Figure size 800x600 with 2 Axes>"
      ]
     },
     "metadata": {},
     "output_type": "display_data"
    }
   ],
   "source": [
    "plt.figure(figsize=(8, 6))\n",
    "\n",
    "# Draw the heatmap\n",
    "sns.heatmap(heatmap_data, annot=True, fmt=\".1f\", linewidths=.5, cmap=\"YlGnBu\", annot_kws={\"size\": 7})\n",
    "\n",
    "# Add titles and labels as needed\n",
    "plt.title('Heatmap of normalized scores')\n",
    "plt.xlabel('LncRNA1')\n",
    "plt.ylabel('LncRNA2')\n",
    "\n",
    "# Show the plot\n",
    "plt.show()"
   ]
  },
  {
   "cell_type": "code",
   "execution_count": 33,
   "id": "0cfdb0cd",
   "metadata": {},
   "outputs": [],
   "source": [
    "score_tbl = score_tbl.fillna(0)\n"
   ]
  },
  {
   "cell_type": "code",
   "execution_count": 34,
   "id": "388ae461",
   "metadata": {},
   "outputs": [
    {
     "data": {
      "image/png": "[encoded data removed]",
      "text/plain": [
       "<Figure size 800x600 with 2 Axes>"
      ]
     },
     "metadata": {},
     "output_type": "display_data"
    }
   ],
   "source": [
    "percentage = score_tbl[[\"name1\",\"name2\",\"percentage\"]]\n",
    "heatmap_data = percentage.pivot(index='name1', columns='name2', values='percentage')\n",
    "plt.figure(figsize=(8, 6))\n",
    "\n",
    "# Draw the heatmap\n",
    "sns.heatmap(heatmap_data, annot=True, fmt=\".1f\", linewidths=.5, cmap=\"YlGnBu\", annot_kws={\"size\": 7})\n",
    "\n",
    "# Add titles and labels as needed\n",
    "plt.title('Heatmap of similarity percentage')\n",
    "plt.xlabel('LncRNA1')\n",
    "plt.ylabel('LncRNA2')\n",
    "\n",
    "# Show the plot\n",
    "plt.show()"
   ]
  },
  {
   "cell_type": "code",
   "execution_count": 2,
   "id": "4c7bb832",
   "metadata": {},
   "outputs": [
    {
     "name": "stderr",
     "output_type": "stream",
     "text": [
      "/Genomics/argo/users/yc0901/.conda/envs/bioenv/lib/python3.10/site-packages/Bio/pairwise2.py:278: BiopythonDeprecationWarning: Bio.pairwise2 has been deprecated, and we intend to remove it in a future release of Biopython. As an alternative, please consider using Bio.Align.PairwiseAligner as a replacement, and contact the Biopython developers if you still need the Bio.pairwise2 module.\n",
      "  warnings.warn(\n"
     ]
    }
   ],
   "source": [
    "from Bio import pairwise2\n",
    "alignments = pairwise2.align.globalxx(\"ACCGT\", \"ACG\")"
   ]
  },
  {
   "cell_type": "code",
   "execution_count": 64,
   "id": "73290991",
   "metadata": {},
   "outputs": [
    {
     "data": {
      "text/plain": [
       "3.0"
      ]
     },
     "execution_count": 64,
     "metadata": {},
     "output_type": "execute_result"
    }
   ],
   "source": [
    "alignments[0].score"
   ]
  },
  {
   "cell_type": "code",
   "execution_count": 3,
   "id": "1f879249",
   "metadata": {},
   "outputs": [
    {
     "name": "stdout",
     "output_type": "stream",
     "text": [
      "ACCGT\n",
      "| || \n",
      "A-CG-\n",
      "  Score=3\n",
      "\n"
     ]
    }
   ],
   "source": [
    "from Bio.pairwise2 import format_alignment\n",
    "print(format_alignment(*alignments[0]))"
   ]
  },
  {
   "cell_type": "code",
   "execution_count": null,
   "id": "810cc52a",
   "metadata": {
    "scrolled": true
   },
   "outputs": [],
   "source": [
    "def read_fasta(fasta_file):\n",
    "    with open(fasta_file, 'r') as file:\n",
    "        header = None\n",
    "        sequence = ''\n",
    "        for line in file:\n",
    "            line = line.strip()\n",
    "            if line.startswith('>'):\n",
    "                if header:\n",
    "                    yield (header, sequence)\n",
    "                header = line[1:]  # Remove '>'\n",
    "                sequence = ''\n",
    "            else:\n",
    "                sequence += line\n",
    "        yield (header, sequence)\n",
    "\n",
    "fasta_file = '/Genomics/pritykinlab/yanjin/COS551/COS551_Final/data/DNA_seq/combined.fa'\n",
    "fasta_dict = {}\n",
    "for header, sequence in read_fasta(fasta_file):\n",
    "    fasta_dict[header] = sequence\n",
    "\n",
    "header_list = []\n",
    "for header, sequence in read_fasta(fasta_file):\n",
    "    header_list.append(header)\n",
    "\n",
    "for i in range(5,6):\n",
    "    for j in range(10,len(header_list)):\n",
    "        alignments = pairwise2.align.localxx(fasta_dict[header_list[i]], fasta_dict[header_list[j]])\n",
    "        print(header_list[i],header_list[j],alignments[0].score)\n"
   ]
  },
  {
   "cell_type": "code",
   "execution_count": 71,
   "id": "6fc9de26",
   "metadata": {},
   "outputs": [
    {
     "data": {
      "text/plain": [
       "93092"
      ]
     },
     "execution_count": 71,
     "metadata": {},
     "output_type": "execute_result"
    }
   ],
   "source": [
    "len(fasta_dict[header_list[5]])"
   ]
  },
  {
   "cell_type": "code",
   "execution_count": 72,
   "id": "a8105eb0",
   "metadata": {},
   "outputs": [
    {
     "data": {
      "text/plain": [
       "83987"
      ]
     },
     "execution_count": 72,
     "metadata": {},
     "output_type": "execute_result"
    }
   ],
   "source": [
    "len(fasta_dict[header_list[9]])"
   ]
  },
  {
   "cell_type": "code",
   "execution_count": 1,
   "id": "2edff18e",
   "metadata": {},
   "outputs": [
    {
     "ename": "NameError",
     "evalue": "name 'header_list' is not defined",
     "output_type": "error",
     "traceback": [
      "\u001b[0;31m---------------------------------------------------------------------------\u001b[0m",
      "\u001b[0;31mNameError\u001b[0m                                 Traceback (most recent call last)",
      "Cell \u001b[0;32mIn[1], line 1\u001b[0m\n\u001b[0;32m----> 1\u001b[0m \u001b[43mheader_list\u001b[49m[\u001b[38;5;241m9\u001b[39m]\n",
      "\u001b[0;31mNameError\u001b[0m: name 'header_list' is not defined"
     ]
    }
   ],
   "source": [
    "header_list[9]"
   ]
  },
  {
   "cell_type": "code",
   "execution_count": null,
   "id": "2b04e9f1",
   "metadata": {},
   "outputs": [],
   "source": [
    "alignments = pairwise2.align.localxx(fasta_dict[header_list[0]], fasta_dict[header_list[9]])\n",
    "alignments[0].score"
   ]
  },
  {
   "cell_type": "code",
   "execution_count": 55,
   "id": "18b6cec2",
   "metadata": {},
   "outputs": [],
   "source": [
    "alignments = pairwise2.align.localxx(fasta_dict[header_list[0]], fasta_dict[header_list[6]])"
   ]
  },
  {
   "cell_type": "code",
   "execution_count": 56,
   "id": "08c538e0",
   "metadata": {},
   "outputs": [
    {
     "data": {
      "text/plain": [
       "4316.0"
      ]
     },
     "execution_count": 56,
     "metadata": {},
     "output_type": "execute_result"
    }
   ],
   "source": [
    "alignments[0].score"
   ]
  },
  {
   "cell_type": "code",
   "execution_count": 57,
   "id": "40397a06",
   "metadata": {},
   "outputs": [],
   "source": [
    "alignments = pairwise2.align.localxx(fasta_dict[header_list[0]], fasta_dict[header_list[7]])"
   ]
  },
  {
   "cell_type": "code",
   "execution_count": 58,
   "id": "11fac019",
   "metadata": {},
   "outputs": [
    {
     "data": {
      "text/plain": [
       "2263.0"
      ]
     },
     "execution_count": 58,
     "metadata": {},
     "output_type": "execute_result"
    }
   ],
   "source": [
    "alignments[0].score"
   ]
  },
  {
   "cell_type": "code",
   "execution_count": null,
   "id": "6b2f9922",
   "metadata": {},
   "outputs": [],
   "source": [
    "alignments = pairwise2.align.localxx(fasta_dict[header_list[0]], fasta_dict[header_list[8]])"
   ]
  },
  {
   "cell_type": "code",
   "execution_count": null,
   "id": "e0a276a5",
   "metadata": {},
   "outputs": [],
   "source": [
    "alignments = pairwise2.align.localxx(fasta_dict[header_list[0]], fasta_dict[header_list[5]])\n",
    "alignments[0].score"
   ]
  },
  {
   "cell_type": "code",
   "execution_count": null,
   "id": "d7eafc07",
   "metadata": {},
   "outputs": [],
   "source": [
    "alignments = pairwise2.align.localxx(fasta_dict[header_list[0]], fasta_dict[header_list[5]])\n",
    "alignments[0].score"
   ]
  },
  {
   "cell_type": "code",
   "execution_count": 51,
   "id": "a2d36496",
   "metadata": {},
   "outputs": [
    {
     "name": "stdout",
     "output_type": "stream",
     "text": [
      "Airn_ensembl|17dna:chromosome|chromosome:GRCm39:17:12959598:13079623:1 ENSMUST00000137351.2|ENSMUSG00000086748.2|OTTMUSG00000011193.1|OTTMUST00000026270.1|Gm13261-201|Gm13261|1020| 1020.0\n",
      "Airn_ensembl|17dna:chromosome|chromosome:GRCm39:17:12959598:13079623:1 ENSMUST00000148122.2|ENSMUSG00000086060.2|OTTMUSG00000030010.1|OTTMUST00000074421.1|Gm16084-201|Gm16084|620| 620.0\n",
      "Airn_ensembl|17dna:chromosome|chromosome:GRCm39:17:12959598:13079623:1 Halr1_ensembl|6dna:chromosome|chromosome:GRCm39:6:52079303:52092577:1 13275.0\n",
      "Airn_ensembl|17dna:chromosome|chromosome:GRCm39:17:12959598:13079623:1 ENSMUST00000152875.2|ENSMUSG00000055408.8|OTTMUSG00000018874.1|OTTMUST00000045398.1|Hottip-202|Hottip|2325| 2325.0\n"
     ]
    },
    {
     "ename": "MemoryError",
     "evalue": "Out of memory",
     "output_type": "error",
     "traceback": [
      "\u001b[0;31m---------------------------------------------------------------------------\u001b[0m",
      "\u001b[0;31mMemoryError\u001b[0m                               Traceback (most recent call last)",
      "Cell \u001b[0;32mIn[51], line 7\u001b[0m\n\u001b[1;32m      5\u001b[0m \u001b[38;5;28;01mfor\u001b[39;00m i \u001b[38;5;129;01min\u001b[39;00m \u001b[38;5;28mrange\u001b[39m(\u001b[38;5;241m0\u001b[39m,\u001b[38;5;28mlen\u001b[39m(header_list)\u001b[38;5;241m-\u001b[39m\u001b[38;5;241m1\u001b[39m):\n\u001b[1;32m      6\u001b[0m     \u001b[38;5;28;01mfor\u001b[39;00m j \u001b[38;5;129;01min\u001b[39;00m \u001b[38;5;28mrange\u001b[39m(\u001b[38;5;241m1\u001b[39m,\u001b[38;5;28mlen\u001b[39m(header_list)):\n\u001b[0;32m----> 7\u001b[0m         alignments \u001b[38;5;241m=\u001b[39m \u001b[43mpairwise2\u001b[49m\u001b[38;5;241;43m.\u001b[39;49m\u001b[43malign\u001b[49m\u001b[38;5;241;43m.\u001b[39;49m\u001b[43mlocalxx\u001b[49m\u001b[43m(\u001b[49m\u001b[43mfasta_dict\u001b[49m\u001b[43m[\u001b[49m\u001b[43mheader_list\u001b[49m\u001b[43m[\u001b[49m\u001b[43mi\u001b[49m\u001b[43m]\u001b[49m\u001b[43m]\u001b[49m\u001b[43m,\u001b[49m\u001b[43m \u001b[49m\u001b[43mfasta_dict\u001b[49m\u001b[43m[\u001b[49m\u001b[43mheader_list\u001b[49m\u001b[43m[\u001b[49m\u001b[43mj\u001b[49m\u001b[43m]\u001b[49m\u001b[43m]\u001b[49m\u001b[43m)\u001b[49m\n\u001b[1;32m      8\u001b[0m         \u001b[38;5;28mprint\u001b[39m(header_list[i],header_list[j],alignments[\u001b[38;5;241m0\u001b[39m]\u001b[38;5;241m.\u001b[39mscore)\n",
      "File \u001b[0;32m~/.conda/envs/bioenv/lib/python3.10/site-packages/Bio/pairwise2.py:502\u001b[0m, in \u001b[0;36malign.alignment_function.__call__\u001b[0;34m(self, *args, **keywds)\u001b[0m\n\u001b[1;32m    500\u001b[0m \u001b[38;5;250m\u001b[39m\u001b[38;5;124;03m\"\"\"Call the alignment instance already created.\"\"\"\u001b[39;00m\n\u001b[1;32m    501\u001b[0m keywds \u001b[38;5;241m=\u001b[39m \u001b[38;5;28mself\u001b[39m\u001b[38;5;241m.\u001b[39mdecode(\u001b[38;5;241m*\u001b[39margs, \u001b[38;5;241m*\u001b[39m\u001b[38;5;241m*\u001b[39mkeywds)\n\u001b[0;32m--> 502\u001b[0m \u001b[38;5;28;01mreturn\u001b[39;00m \u001b[43m_align\u001b[49m\u001b[43m(\u001b[49m\u001b[38;5;241;43m*\u001b[39;49m\u001b[38;5;241;43m*\u001b[39;49m\u001b[43mkeywds\u001b[49m\u001b[43m)\u001b[49m\n",
      "File \u001b[0;32m~/.conda/envs/bioenv/lib/python3.10/site-packages/Bio/pairwise2.py:569\u001b[0m, in \u001b[0;36m_align\u001b[0;34m(sequenceA, sequenceB, match_fn, gap_A_fn, gap_B_fn, penalize_extend_when_opening, penalize_end_gaps, align_globally, gap_char, force_generic, score_only, one_alignment_only)\u001b[0m\n\u001b[1;32m    567\u001b[0m     open_A, extend_A \u001b[38;5;241m=\u001b[39m gap_A_fn\u001b[38;5;241m.\u001b[39mopen, gap_A_fn\u001b[38;5;241m.\u001b[39mextend\n\u001b[1;32m    568\u001b[0m     open_B, extend_B \u001b[38;5;241m=\u001b[39m gap_B_fn\u001b[38;5;241m.\u001b[39mopen, gap_B_fn\u001b[38;5;241m.\u001b[39mextend\n\u001b[0;32m--> 569\u001b[0m     matrices \u001b[38;5;241m=\u001b[39m \u001b[43m_make_score_matrix_fast\u001b[49m\u001b[43m(\u001b[49m\n\u001b[1;32m    570\u001b[0m \u001b[43m        \u001b[49m\u001b[43msequenceA\u001b[49m\u001b[43m,\u001b[49m\n\u001b[1;32m    571\u001b[0m \u001b[43m        \u001b[49m\u001b[43msequenceB\u001b[49m\u001b[43m,\u001b[49m\n\u001b[1;32m    572\u001b[0m \u001b[43m        \u001b[49m\u001b[43mmatch_fn\u001b[49m\u001b[43m,\u001b[49m\n\u001b[1;32m    573\u001b[0m \u001b[43m        \u001b[49m\u001b[43mopen_A\u001b[49m\u001b[43m,\u001b[49m\n\u001b[1;32m    574\u001b[0m \u001b[43m        \u001b[49m\u001b[43mextend_A\u001b[49m\u001b[43m,\u001b[49m\n\u001b[1;32m    575\u001b[0m \u001b[43m        \u001b[49m\u001b[43mopen_B\u001b[49m\u001b[43m,\u001b[49m\n\u001b[1;32m    576\u001b[0m \u001b[43m        \u001b[49m\u001b[43mextend_B\u001b[49m\u001b[43m,\u001b[49m\n\u001b[1;32m    577\u001b[0m \u001b[43m        \u001b[49m\u001b[43mpenalize_extend_when_opening\u001b[49m\u001b[43m,\u001b[49m\n\u001b[1;32m    578\u001b[0m \u001b[43m        \u001b[49m\u001b[43mpenalize_end_gaps\u001b[49m\u001b[43m,\u001b[49m\n\u001b[1;32m    579\u001b[0m \u001b[43m        \u001b[49m\u001b[43malign_globally\u001b[49m\u001b[43m,\u001b[49m\n\u001b[1;32m    580\u001b[0m \u001b[43m        \u001b[49m\u001b[43mscore_only\u001b[49m\u001b[43m,\u001b[49m\n\u001b[1;32m    581\u001b[0m \u001b[43m    \u001b[49m\u001b[43m)\u001b[49m\n\u001b[1;32m    582\u001b[0m \u001b[38;5;28;01melse\u001b[39;00m:\n\u001b[1;32m    583\u001b[0m     matrices \u001b[38;5;241m=\u001b[39m _make_score_matrix_generic(\n\u001b[1;32m    584\u001b[0m         sequenceA,\n\u001b[1;32m    585\u001b[0m         sequenceB,\n\u001b[0;32m   (...)\u001b[0m\n\u001b[1;32m    591\u001b[0m         score_only,\n\u001b[1;32m    592\u001b[0m     )\n",
      "\u001b[0;31mMemoryError\u001b[0m: Out of memory"
     ]
    }
   ],
   "source": [
    "header_list = []\n",
    "for header, sequence in read_fasta(fasta_file):\n",
    "    header_list.append(header)\n",
    "\n",
    "for i in range(0,len(header_list)-1):\n",
    "    for j in range(1,len(header_list)):\n",
    "        alignments = pairwise2.align.localxx(fasta_dict[header_list[i]], fasta_dict[header_list[j]])\n",
    "        print(header_list[i],header_list[j],alignments[0].score)\n"
   ]
  },
  {
   "cell_type": "code",
   "execution_count": null,
   "id": "b136bb5b",
   "metadata": {},
   "outputs": [],
   "source": []
  }
 ],
 "metadata": {
  "kernelspec": {
   "display_name": "Python 3 (ipykernel)",
   "language": "python",
   "name": "python3"
  },
  "language_info": {
   "codemirror_mode": {
    "name": "ipython",
    "version": 3
   },
   "file_extension": ".py",
   "mimetype": "text/x-python",
   "name": "python",
   "nbconvert_exporter": "python",
   "pygments_lexer": "ipython3",
   "version": "3.10.9"
  }
 },
 "nbformat": 4,
 "nbformat_minor": 5
}
